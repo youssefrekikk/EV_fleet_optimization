{
 "cells": [
  {
   "cell_type": "code",
   "execution_count": null,
   "id": "e52f4d7e",
   "metadata": {},
   "outputs": [],
   "source": []
  },
  {
   "cell_type": "code",
   "execution_count": 1,
   "id": "88c436a2",
   "metadata": {},
   "outputs": [
    {
     "name": "stdout",
     "output_type": "stream",
     "text": [
      "📊 Dataset loaded: 1,048,575 charging sessions\n",
      "📅 Columns: ['ChargingEvent', 'CPID', 'StartDate', 'StartTime', 'EndDate', 'EndTime', 'Energy', 'PluginDuration']\n"
     ]
    },
    {
     "data": {
      "text/html": [
       "<div>\n",
       "<style scoped>\n",
       "    .dataframe tbody tr th:only-of-type {\n",
       "        vertical-align: middle;\n",
       "    }\n",
       "\n",
       "    .dataframe tbody tr th {\n",
       "        vertical-align: top;\n",
       "    }\n",
       "\n",
       "    .dataframe thead th {\n",
       "        text-align: right;\n",
       "    }\n",
       "</style>\n",
       "<table border=\"1\" class=\"dataframe\">\n",
       "  <thead>\n",
       "    <tr style=\"text-align: right;\">\n",
       "      <th></th>\n",
       "      <th>ChargingEvent</th>\n",
       "      <th>CPID</th>\n",
       "      <th>StartDate</th>\n",
       "      <th>StartTime</th>\n",
       "      <th>EndDate</th>\n",
       "      <th>EndTime</th>\n",
       "      <th>Energy</th>\n",
       "      <th>PluginDuration</th>\n",
       "    </tr>\n",
       "  </thead>\n",
       "  <tbody>\n",
       "    <tr>\n",
       "      <th>0</th>\n",
       "      <td>15045471</td>\n",
       "      <td>AN02343</td>\n",
       "      <td>26/09/2017</td>\n",
       "      <td>22:12:00</td>\n",
       "      <td>26/09/2017</td>\n",
       "      <td>22:16:00</td>\n",
       "      <td>0.4</td>\n",
       "      <td>0.0</td>\n",
       "    </tr>\n",
       "    <tr>\n",
       "      <th>1</th>\n",
       "      <td>15045072</td>\n",
       "      <td>AN03348</td>\n",
       "      <td>26/09/2017</td>\n",
       "      <td>21:34:00</td>\n",
       "      <td>26/09/2017</td>\n",
       "      <td>21:40:00</td>\n",
       "      <td>0.4</td>\n",
       "      <td>0.0</td>\n",
       "    </tr>\n",
       "    <tr>\n",
       "      <th>2</th>\n",
       "      <td>15045044</td>\n",
       "      <td>AN07961</td>\n",
       "      <td>26/09/2017</td>\n",
       "      <td>21:40:00</td>\n",
       "      <td>26/09/2017</td>\n",
       "      <td>21:49:00</td>\n",
       "      <td>0.6</td>\n",
       "      <td>0.0</td>\n",
       "    </tr>\n",
       "    <tr>\n",
       "      <th>3</th>\n",
       "      <td>15045197</td>\n",
       "      <td>AN02488</td>\n",
       "      <td>26/09/2017</td>\n",
       "      <td>21:57:00</td>\n",
       "      <td>26/09/2017</td>\n",
       "      <td>22:54:00</td>\n",
       "      <td>7.1</td>\n",
       "      <td>1.0</td>\n",
       "    </tr>\n",
       "    <tr>\n",
       "      <th>4</th>\n",
       "      <td>15045448</td>\n",
       "      <td>AN09719</td>\n",
       "      <td>26/09/2017</td>\n",
       "      <td>22:07:00</td>\n",
       "      <td>26/09/2017</td>\n",
       "      <td>23:10:00</td>\n",
       "      <td>1.6</td>\n",
       "      <td>1.0</td>\n",
       "    </tr>\n",
       "  </tbody>\n",
       "</table>\n",
       "</div>"
      ],
      "text/plain": [
       "   ChargingEvent     CPID   StartDate StartTime     EndDate   EndTime  Energy  \\\n",
       "0       15045471  AN02343  26/09/2017  22:12:00  26/09/2017  22:16:00     0.4   \n",
       "1       15045072  AN03348  26/09/2017  21:34:00  26/09/2017  21:40:00     0.4   \n",
       "2       15045044  AN07961  26/09/2017  21:40:00  26/09/2017  21:49:00     0.6   \n",
       "3       15045197  AN02488  26/09/2017  21:57:00  26/09/2017  22:54:00     7.1   \n",
       "4       15045448  AN09719  26/09/2017  22:07:00  26/09/2017  23:10:00     1.6   \n",
       "\n",
       "   PluginDuration  \n",
       "0             0.0  \n",
       "1             0.0  \n",
       "2             0.0  \n",
       "3             1.0  \n",
       "4             1.0  "
      ]
     },
     "execution_count": 1,
     "metadata": {},
     "output_type": "execute_result"
    }
   ],
   "source": [
    "import pandas as pd\n",
    "import numpy as np\n",
    "import matplotlib.pyplot as plt\n",
    "import seaborn as sns\n",
    "from datetime import datetime\n",
    "import warnings\n",
    "warnings.filterwarnings('ignore')\n",
    "\n",
    "# Load the data\n",
    "df = pd.read_csv('../data/raw/electric-chargepoint-analysis-2017-raw-domestics-data (1).csv')\n",
    "\n",
    "print(f\"📊 Dataset loaded: {df.shape[0]:,} charging sessions\")\n",
    "print(f\"📅 Columns: {list(df.columns)}\")\n",
    "df.head()\n"
   ]
  },
  {
   "cell_type": "code",
   "execution_count": 8,
   "id": "cadcf404",
   "metadata": {},
   "outputs": [
    {
     "name": "stdout",
     "output_type": "stream",
     "text": [
      "✅ Clean data: 1,048,575 sessions\n",
      "📅 Date range: 2017-09-26 21:25:00 to 2017-12-31 23:59:23\n"
     ]
    }
   ],
   "source": [
    "# Combine date and time columns\n",
    "df['start_datetime'] = pd.to_datetime(df['StartDate'] + ' ' + df['StartTime'], \n",
    "                                     format='%d/%m/%Y %H:%M:%S', errors='coerce')\n",
    "\n",
    "# Extract hour from start time\n",
    "df['start_hour'] = df['start_datetime'].dt.hour\n",
    "\n",
    "# Clean data\n",
    "df_clean = df.dropna(subset=['start_datetime', 'start_hour'])\n",
    "\n",
    "print(f\"✅ Clean data: {len(df_clean):,} sessions\")\n",
    "print(f\"📅 Date range: {df_clean['start_datetime'].min()} to {df_clean['start_datetime'].max()}\")\n"
   ]
  },
  {
   "cell_type": "code",
   "execution_count": 9,
   "id": "9875668e",
   "metadata": {},
   "outputs": [
    {
     "name": "stdout",
     "output_type": "stream",
     "text": [
      "📊 Charging Sessions by Hour:\n",
      "Hour   Sessions   %        Pattern        \n",
      "---------------------------------------------\n",
      " 0:00     17842     1.7%  █          🟢\n",
      " 1:00      5982     0.6%             🟢\n",
      " 2:00      3495     0.3%             🟢\n",
      " 3:00      2927     0.3%             🟢\n",
      " 4:00      3744     0.4%             🟢\n",
      " 5:00      4712     0.4%             🟢\n",
      " 6:00      8905     0.8%             🟢\n",
      " 7:00     18344     1.7%  █          🟢\n",
      " 8:00     31280     3.0%  ██         🟢\n",
      " 9:00     35468     3.4%  ███        🟢\n",
      "10:00     37066     3.5%  ███        🟢\n",
      "11:00     44067     4.2%  ███        🟡\n",
      "12:00     47641     4.5%  ████       🟡\n",
      "13:00     49364     4.7%  ████       🟡\n",
      "14:00     51169     4.9%  ████       🟡\n",
      "15:00     73353     7.0%  ██████     🔴\n",
      "16:00     94499     9.0%  ████████   🔴\n",
      "17:00    115927    11.1%  ██████████ 🔴\n",
      "18:00    113964    10.9%  █████████  🔴\n",
      "19:00     89240     8.5%  ███████    🔴\n",
      "20:00     69050     6.6%  █████      🔴\n",
      "21:00     59071     5.6%  █████      🟡\n",
      "22:00     45925     4.4%  ███        🟡\n",
      "23:00     25540     2.4%  ██         🟢\n"
     ]
    }
   ],
   "source": [
    "# Count sessions by hour\n",
    "hourly_sessions = df_clean['start_hour'].value_counts().sort_index()\n",
    "total_sessions = hourly_sessions.sum()\n",
    "\n",
    "print(\"📊 Charging Sessions by Hour:\")\n",
    "print(f\"{'Hour':<6} {'Sessions':<10} {'%':<8} {'Pattern':<15}\")\n",
    "print(\"-\" * 45)\n",
    "\n",
    "for hour in range(24):\n",
    "    sessions = hourly_sessions.get(hour, 0)\n",
    "    percentage = (sessions / total_sessions) * 100\n",
    "    \n",
    "    # Visual pattern\n",
    "    bar_length = int((sessions / hourly_sessions.max()) * 10)\n",
    "    pattern = \"█\" * bar_length\n",
    "    \n",
    "    # Peak indicator\n",
    "    if percentage > 6:\n",
    "        indicator = \"🔴\"\n",
    "    elif percentage > 4:\n",
    "        indicator = \"🟡\"\n",
    "    else:\n",
    "        indicator = \"🟢\"\n",
    "    \n",
    "    print(f\"{hour:2d}:00  {sessions:8d}  {percentage:6.1f}%  {pattern:<10} {indicator}\")\n"
   ]
  },
  {
   "cell_type": "code",
   "execution_count": 10,
   "id": "cf39114c",
   "metadata": {},
   "outputs": [
    {
     "data": {
      "image/png": "[encoded data removed]",
      "text/plain": [
       "<Figure size 1500x500 with 2 Axes>"
      ]
     },
     "metadata": {},
     "output_type": "display_data"
    }
   ],
   "source": [
    "# Create hourly pattern visualization\n",
    "fig, (ax1, ax2) = plt.subplots(1, 2, figsize=(15, 5))\n",
    "\n",
    "# Sessions by hour\n",
    "hours = range(24)\n",
    "sessions_by_hour = [hourly_sessions.get(h, 0) for h in hours]\n",
    "\n",
    "bars = ax1.bar(hours, sessions_by_hour, color='skyblue', alpha=0.7)\n",
    "ax1.set_title('Charging Sessions by Hour of Day', fontweight='bold')\n",
    "ax1.set_xlabel('Hour of Day')\n",
    "ax1.set_ylabel('Number of Sessions')\n",
    "ax1.set_xticks(range(0, 24, 2))\n",
    "ax1.grid(True, alpha=0.3)\n",
    "\n",
    "# Highlight peak hours (top 25%)\n",
    "peak_threshold = np.percentile(sessions_by_hour, 75)\n",
    "for i, bar in enumerate(bars):\n",
    "    if sessions_by_hour[i] > peak_threshold:\n",
    "        bar.set_color('red')\n",
    "\n",
    "# Percentage by hour\n",
    "percentages = [(sessions_by_hour[h] / sum(sessions_by_hour)) * 100 for h in range(24)]\n",
    "ax2.plot(hours, percentages, marker='o', linewidth=2, markersize=6, color='green')\n",
    "ax2.set_title('Percentage of Daily Charging by Hour', fontweight='bold')\n",
    "ax2.set_xlabel('Hour of Day')\n",
    "ax2.set_ylabel('Percentage (%)')\n",
    "ax2.set_xticks(range(0, 24, 2))\n",
    "ax2.grid(True, alpha=0.3)\n",
    "\n",
    "plt.tight_layout()\n",
    "plt.show()\n"
   ]
  },
  {
   "cell_type": "code",
   "execution_count": 11,
   "id": "037ae571",
   "metadata": {},
   "outputs": [
    {
     "name": "stdout",
     "output_type": "stream",
     "text": [
      "🎯 Peak Hours Identification:\n",
      "Top 25% method: [15, 16, 17, 18, 19, 20]\n",
      "Above 5% method: [15, 16, 17, 18, 19, 20, 21]\n",
      "\n",
      "📊 Top Hours:\n",
      "  17:00 - 115,927 sessions (11.1%)\n",
      "  18:00 - 113,964 sessions (10.9%)\n",
      "  16:00 - 94,499 sessions (9.0%)\n",
      "  19:00 - 89,240 sessions (8.5%)\n",
      "  15:00 - 73,353 sessions (7.0%)\n",
      "  20:00 - 69,050 sessions (6.6%)\n",
      "  21:00 - 59,071 sessions (5.6%)\n",
      "  14:00 - 51,169 sessions (4.9%)\n"
     ]
    }
   ],
   "source": [
    "# Identify peak hours using different methods\n",
    "sessions_series = pd.Series([hourly_sessions.get(h, 0) for h in range(24)], index=range(24))\n",
    "\n",
    "# Method 1: Top 25%\n",
    "top_25_threshold = sessions_series.quantile(0.75)\n",
    "top_25_peaks = sessions_series[sessions_series > top_25_threshold].index.tolist()\n",
    "\n",
    "# Method 2: Above 5% of total\n",
    "above_5pct = sessions_series[(sessions_series / sessions_series.sum()) > 0.05].index.tolist()\n",
    "\n",
    "print(\"🎯 Peak Hours Identification:\")\n",
    "print(f\"Top 25% method: {sorted(top_25_peaks)}\")\n",
    "print(f\"Above 5% method: {sorted(above_5pct)}\")\n",
    "\n",
    "# Show the actual percentages for top hours\n",
    "print(f\"\\n📊 Top Hours:\")\n",
    "top_hours = sessions_series.nlargest(8)\n",
    "for hour, sessions in top_hours.items():\n",
    "    pct = (sessions / sessions_series.sum()) * 100\n",
    "    print(f\"  {hour:2d}:00 - {sessions:,} sessions ({pct:.1f}%)\")\n"
   ]
  },
  {
   "cell_type": "code",
   "execution_count": 6,
   "id": "bce145be",
   "metadata": {},
   "outputs": [
    {
     "name": "stdout",
     "output_type": "stream",
     "text": [
      "⚖️ Comparison:\n",
      "Current simulation: [7, 8, 9, 10, 17, 18, 19, 20, 21]\n",
      "Real data peaks:    [15, 16, 17, 18, 19, 20, 21]\n",
      "\n",
      "✅ Correct: [17, 18, 19, 20, 21]\n",
      "❌ Missing: [15, 16]\n",
      "⚠️ Extra:   [7, 8, 9, 10]\n",
      "\n",
      "📈 Accuracy: 45.5%\n"
     ]
    }
   ],
   "source": [
    "# Our current peak hours from simulation\n",
    "current_peak_hours = [7, 8, 9, 10, 17, 18, 19, 20, 21]\n",
    "\n",
    "# Real data peak hours (using above 5% method)\n",
    "real_peak_hours = above_5pct\n",
    "\n",
    "print(\"⚖️ Comparison:\")\n",
    "print(f\"Current simulation: {current_peak_hours}\")\n",
    "print(f\"Real data peaks:    {sorted(real_peak_hours)}\")\n",
    "\n",
    "# Calculate overlap\n",
    "overlap = set(current_peak_hours) & set(real_peak_hours)\n",
    "missing = set(real_peak_hours) - set(current_peak_hours)\n",
    "extra = set(current_peak_hours) - set(real_peak_hours)\n",
    "\n",
    "print(f\"\\n✅ Correct: {sorted(overlap)}\")\n",
    "print(f\"❌ Missing: {sorted(missing)}\")\n",
    "print(f\"⚠️ Extra:   {sorted(extra)}\")\n",
    "\n",
    "accuracy = len(overlap) / len(set(current_peak_hours) | set(real_peak_hours)) * 100\n",
    "print(f\"\\n📈 Accuracy: {accuracy:.1f}%\")\n"
   ]
  },
  {
   "cell_type": "code",
   "execution_count": 7,
   "id": "ffc01d8b",
   "metadata": {},
   "outputs": [
    {
     "name": "stdout",
     "output_type": "stream",
     "text": [
      "💡 RECOMMENDATIONS:\n",
      "Recommended peak hours: [15, 16, 17, 18, 19, 20, 21]\n",
      "\n",
      "⚙️ Config update:\n",
      "'peak_hours': [(15, 21)]\n",
      "\n",
      "📊 Coverage:\n",
      "Current:     54.3% of real charging\n",
      "Recommended: 58.7% of real charging\n",
      "Improvement: +4.4 percentage points\n"
     ]
    }
   ],
   "source": [
    "# Final recommendations\n",
    "recommended_peaks = sorted(real_peak_hours)\n",
    "\n",
    "print(\"💡 RECOMMENDATIONS:\")\n",
    "print(f\"Recommended peak hours: {recommended_peaks}\")\n",
    "\n",
    "# Convert to ranges for config\n",
    "ranges = []\n",
    "start = recommended_peaks[0]\n",
    "for i in range(1, len(recommended_peaks)):\n",
    "    if recommended_peaks[i] != recommended_peaks[i-1] + 1:\n",
    "        ranges.append((start, recommended_peaks[i-1]))\n",
    "        start = recommended_peaks[i]\n",
    "ranges.append((start, recommended_peaks[-1]))\n",
    "\n",
    "print(f\"\\n⚙️ Config update:\")\n",
    "print(f\"'peak_hours': {ranges}\")\n",
    "\n",
    "# Impact analysis\n",
    "current_coverage = sum(sessions_series[h] for h in current_peak_hours) / sessions_series.sum() * 100\n",
    "recommended_coverage = sum(sessions_series[h] for h in recommended_peaks) / sessions_series.sum() * 100\n",
    "\n",
    "print(f\"\\n📊 Coverage:\")\n",
    "print(f\"Current:     {current_coverage:.1f}% of real charging\")\n",
    "print(f\"Recommended: {recommended_coverage:.1f}% of real charging\")\n",
    "print(f\"Improvement: {recommended_coverage - current_coverage:+.1f} percentage points\")\n"
   ]
  },
  {
   "cell_type": "markdown",
   "id": "7cccda03",
   "metadata": {},
   "source": []
  },
  {
   "cell_type": "code",
   "execution_count": null,
   "id": "7e8b082e",
   "metadata": {},
   "outputs": [],
   "source": []
  }
 ],
 "metadata": {
  "kernelspec": {
   "display_name": "venv",
   "language": "python",
   "name": "python3"
  },
  "language_info": {
   "codemirror_mode": {
    "name": "ipython",
    "version": 3
   },
   "file_extension": ".py",
   "mimetype": "text/x-python",
   "name": "python",
   "nbconvert_exporter": "python",
   "pygments_lexer": "ipython3",
   "version": "3.13.5"
  }
 },
 "nbformat": 4,
 "nbformat_minor": 5
}
